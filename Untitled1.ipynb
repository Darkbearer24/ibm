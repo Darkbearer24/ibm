{
 "cells": [
  {
   "cell_type": "code",
   "execution_count": null,
   "id": "754fe33f-c4e6-4e34-b8ed-703f28e6cc4d",
   "metadata": {},
   "outputs": [],
   "source": []
  }
 ],
 "metadata": {
  "kernelspec": {
   "display_name": "Speech Translation (Python 3.12)",
   "language": "python",
   "name": "speech_translation"
  },
  "language_info": {
   "codemirror_mode": {
    "name": "ipython",
    "version": 3
   },
   "file_extension": ".py",
   "mimetype": "text/x-python",
   "name": "python",
   "nbconvert_exporter": "python",
   "pygments_lexer": "ipython3",
   "version": "3.12.6"
  }
 },
 "nbformat": 4,
 "nbformat_minor": 5
}
